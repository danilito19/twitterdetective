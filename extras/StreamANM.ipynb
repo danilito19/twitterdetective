{
 "cells": [
  {
   "cell_type": "code",
   "execution_count": 1,
   "metadata": {
    "collapsed": true
   },
   "outputs": [],
   "source": [
    "#from TwitterAPI import TwitterAPI #not the best one\n",
    "from twython import Twython # This one is supposed to be the best\n",
    "from twython import TwythonStreamer\n",
    "\n",
    "import argparse\n",
    "import twitter\n",
    "import json\n",
    "import os.path\n",
    "import signal\n",
    "import sys"
   ]
  },
  {
   "cell_type": "code",
   "execution_count": 9,
   "metadata": {
    "collapsed": false
   },
   "outputs": [],
   "source": [
    "class autorizador:\n",
    "    def __init__(self, CK, CKS, AT, ATS):\n",
    "        self.ConsumerKey = CK\n",
    "        self.ConsumerKeySecret = CKS\n",
    "        self.AccessToken = AT\n",
    "        self.AccessTokenSecret = ATS\n",
    "\n",
    "    def getConsumerKey(self):\n",
    "        return self.ConsumerKey\n",
    "\n",
    "    def getConsumerKeySecret(self):\n",
    "        return self.ConsumerKeySecret\n",
    "\n",
    "    def getAccessToken(self):\n",
    "        return self.AccessToken\n",
    "\n",
    "    def getAccessTokenSecret(self):\n",
    "        return self.AccessTokenSecret\n",
    "\n",
    "def makeAuth(infoStr):\n",
    "    # infoStr is a tab-separated line: name hours qpoints\n",
    "    # returns a corresponding Student object\n",
    "    CK, CKS, AT, ATS = infoStr.split(\",\")\n",
    "    return autorizador(CK, CKS, AT, ATS)\n",
    "\n",
    "def get_creds(filename):\n",
    "    # open the input file for reading\n",
    "    infile = open(filename, 'r')\n",
    "    c = makeAuth(infile.readline())\n",
    "    for line in infile:\n",
    "        s = makeAuth(line)\n",
    "    infile.close()\n",
    "    return c\n",
    "\n",
    "# OAuth magic\n",
    "creds = get_creds('secrets.txt')\n",
    "oauth_token, oauth_secret, consumer_key, consumer_secret =  creds.AccessToken,creds.AccessTokenSecret,creds.ConsumerKey, creds.ConsumerKeySecret\n",
    "auth=twitter.OAuth(oauth_token, oauth_secret, consumer_key, consumer_secret)"
   ]
  },
  {
   "cell_type": "code",
   "execution_count": 13,
   "metadata": {
    "collapsed": false
   },
   "outputs": [],
   "source": [
    "def save_tweet(tweet, f):\n",
    "    # Replace HTML entities\n",
    "    tweet[\"text\"] = tweet[\"text\"].replace(\"&gt;\", \">\").replace(\"&lt;\", \"<\").replace(\"&amp;\", \"&\")\n",
    "    json.dump(tweet, f)\n",
    "\n",
    "t = twitter.Twitter(auth=auth)\n",
    "users = ['aurelionuno']\n",
    "outfile = open('data.json', 'w')"
   ]
  },
  {
   "cell_type": "code",
   "execution_count": 14,
   "metadata": {
    "collapsed": true
   },
   "outputs": [],
   "source": [
    "def save_user_tweets(user, n, auth):\n",
    "    t = twitter.Twitter(auth=auth)\n",
    "    print(\"Fetching %i tweets from @%s\" % (n, user))\n",
    "    tweets = t.statuses.user_timeline(screen_name=user, count=n)\n",
    "    print(\"  (actually fetched %i)\" % len(tweets))\n",
    "    for tweet in tweets:\n",
    "        save_tweet(tweet, outfile)\n",
    "        print(tweet['text'])"
   ]
  },
  {
   "cell_type": "code",
   "execution_count": 15,
   "metadata": {
    "collapsed": false
   },
   "outputs": [
    {
     "name": "stdout",
     "output_type": "stream",
     "text": [
      "Fetching 10 tweets from @aurelionuno\n",
      "  (actually fetched 10)\n",
      "Porque la educación empieza en casa, mi reconocimiento a todas las mamás de México. #DíaDeLasMadres https://t.co/4KaAfbXLOV\n",
      "¡Muchas felicidades a todas las mamás en su día! #DíaDeLasMadres https://t.co/Y9iupyVdhD\n",
      "Agradezco al Director Antonio y a la comunidad educativa por permitirme dialogar con ustedes. #VisitaEnLunes https://t.co/Ly2jd1AJ47\n",
      "En vacaciones arrancaremos las #EscuelasDeVerano para que los alumnos aprovechen el tiempo divirtiéndose y aprendiendo.\n",
      "Abriremos más #EscuelasdeTiempoCompleto. Hoy tenemos más de 25,000 en todo el país. https://t.co/uj2IRfxKwL\n",
      "A partir de ahora, las estancias infantiles de SEDESOL, además de cuidar a sus hijos, ofrecerán educación preescolar https://t.co/3gK4WEYHk3\n",
      "Desde la @SEP_mx, promovemos acciones para apoyar a las mamás, como aumentar el horario de todos los preescolares de 3 a 4 horas.\n",
      "3 de cada 4 miembros de los Consejos Escolares de Participación Social de las escuelas del país son madres de familia.\n",
      "Mañana festejaremos a todas las mamás de México, cuyo compromiso y esfuerzo cotidiano es vital para la educación de sus hijos.\n",
      "Esta primaria es parte del programa #EscuelasAlCIEN y recibirá 2.9 mdp para mejorar sus instalaciones. https://t.co/oDm4QXN2ZE\n"
     ]
    }
   ],
   "source": [
    "save_user_tweets('aurelionuno', 10, auth)"
   ]
  },
  {
   "cell_type": "code",
   "execution_count": null,
   "metadata": {
    "collapsed": true
   },
   "outputs": [],
   "source": []
  },
  {
   "cell_type": "markdown",
   "metadata": {},
   "source": [
    "### Twitter documentation: POST statuses/filter\n",
    "\n",
    "Returns public statuses that match one or more filter predicates. Multiple parameters may be specified which allows most clients to use a single connection to the Streaming API. Both GET and POST requests are supported, but GET requests with too many parameters may cause the request to be rejected for excessive URL length. Use a POST request to avoid long URLs.\n",
    "\n",
    "The track, follow, and locations fields should be considered to be combined with an OR operator. track=foo&follow=1234 returns Tweets matching “foo” OR created by user 1234.\n",
    "\n",
    "The default access level allows up to 400 track keywords, 5,000 follow userids and 25 0.1-360 degree location boxes. If you need elevated access to the Streaming API, you can contact Gnip.\"\"\"\n"
   ]
  },
  {
   "cell_type": "code",
   "execution_count": 7,
   "metadata": {
    "collapsed": false
   },
   "outputs": [],
   "source": [
    "def save_tweet(tweet, f):\n",
    "    # Replace HTML entities\n",
    "    tweet[\"text\"] = tweet[\"text\"].replace(\"&gt;\", \">\").replace(\"&lt;\", \"<\").replace(\"&amp;\", \"&\")\n",
    "    json.dump(tweet, f)\n",
    "\n",
    "t = twitter.Twitter(auth=auth)\n",
    "users = ['aurelionuno']\n",
    "outfile = open('data.json', 'w')\n",
    "\n",
    "def save_user_tweets(user, n, auth):\n",
    "    t = twitter.Twitter(auth=auth)\n",
    "    print(\"Fetching %i tweets from @%s\" % (n, user))\n",
    "    tweets = t.statuses.user_timeline(screen_name=user, count=n)\n",
    "    print(\"  (actually fetched %i)\" % len(tweets))\n",
    "    for tweet in tweets:\n",
    "        save_tweet(tweet, outfile)\n",
    "        print(tweet['text'])\n",
    "\n",
    "def get_tweets_from_stream(filter_, n, auth):\n",
    "  \n",
    "    # Connect to the stream\n",
    "        twitter_stream = twitter.TwitterStream(auth=auth)\n",
    "    \n",
    "        if filter_ is None and filters_file is None:\n",
    "            stream = twitter_stream.statuses.sample()\n",
    "        else:\n",
    "            if filter_ is not None:\n",
    "                track = filter_\n",
    "            elif filters_file is not None:\n",
    "                track = \",\".join(filters_file.read().strip().split(\"\\n\"))\n",
    "\n",
    "            stream = twitter_stream.statuses.filter(track=track)\n",
    "    \n",
    "        # Fetch the tweets\n",
    "        fetched = 0\n",
    "    \n",
    "        if num_tweets > 0:\n",
    "            if outf != sys.stdout: print(\"Fetching %i tweets... \" % num_tweets)\n",
    "        else:\n",
    "            signal.signal(signal.SIGINT, signal_handler)\n",
    "            now = datetime.now().isoformat(sep=\" \")\n",
    "            msg = \"[{}] Fetching tweets. Press Ctrl+C to stop.\".format(now)\n",
    "            if outf != sys.stdout: print(msg)\n",
    "    \n",
    "        for tweet in stream:\n",
    "            # The public stream includes tweets, but also other messages, such\n",
    "            # as deletion notices. We are only interested in the tweets.\n",
    "            # See: https://dev.twitter.com/streaming/overview/messages-types\n",
    "            if tweet.has_key(\"text\"):\n",
    "                # We also only want English tweets\n",
    "                if tweet[\"lang\"] == \"en\":\n",
    "                    save_tweet(tweet, outf, format)\n",
    "                    fetched += 1\n",
    "                    if fetched % 100 == 0:\n",
    "                        now = datetime.now().isoformat(sep=\" \")\n",
    "                        msg = \"[{}] Fetched {:,} tweets.\".format(now, fetched)\n",
    "                        if outf != sys.stdout: print(msg)\n",
    "                    if num_tweets > 0 and fetched >= num_tweets:\n",
    "                        break\n",
    "    \n",
    "\n",
    "\n",
    "outfile.close()"
   ]
  },
  {
   "cell_type": "code",
   "execution_count": null,
   "metadata": {
    "collapsed": true
   },
   "outputs": [],
   "source": []
  }
 ],
 "metadata": {
  "kernelspec": {
   "display_name": "Python 3",
   "language": "python",
   "name": "python3"
  },
  "language_info": {
   "codemirror_mode": {
    "name": "ipython",
    "version": 3
   },
   "file_extension": ".py",
   "mimetype": "text/x-python",
   "name": "python",
   "nbconvert_exporter": "python",
   "pygments_lexer": "ipython3",
   "version": "3.5.1"
  }
 },
 "nbformat": 4,
 "nbformat_minor": 0
}
